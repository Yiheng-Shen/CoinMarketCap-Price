{
 "cells": [
  {
   "cell_type": "markdown",
   "metadata": {},
   "source": [
    "# Module 10 Supervised Machine Learning Techniques on Mortage Data"
   ]
  },
  {
   "cell_type": "markdown",
   "metadata": {},
   "source": [
    "Yiheng Shen ys3323"
   ]
  },
  {
   "cell_type": "markdown",
   "metadata": {},
   "source": [
    "This article is to build GBM model with grid search and cross validationand and the Deep Learning on a sample of the mortgage probability of default data. The criteria is ROC and the cumulative Lift."
   ]
  },
  {
   "cell_type": "markdown",
   "metadata": {},
   "source": [
    "## Data Cleaning"
   ]
  },
  {
   "cell_type": "code",
   "execution_count": 1,
   "metadata": {},
   "outputs": [],
   "source": [
    "import numpy as np\n",
    "import pandas as pd\n",
    "import warnings\n",
    "warnings.filterwarnings('ignore')"
   ]
  },
  {
   "cell_type": "code",
   "execution_count": 2,
   "metadata": {},
   "outputs": [
    {
     "data": {
      "text/plain": [
       "(80000, 89)"
      ]
     },
     "execution_count": 2,
     "metadata": {},
     "output_type": "execute_result"
    }
   ],
   "source": [
    "df = pd.read_csv('XYZloan_default_selected_vars.csv')\n",
    "df.shape"
   ]
  },
  {
   "cell_type": "code",
   "execution_count": 3,
   "metadata": {
    "scrolled": true
   },
   "outputs": [
    {
     "data": {
      "text/html": [
       "<div>\n",
       "<style scoped>\n",
       "    .dataframe tbody tr th:only-of-type {\n",
       "        vertical-align: middle;\n",
       "    }\n",
       "\n",
       "    .dataframe tbody tr th {\n",
       "        vertical-align: top;\n",
       "    }\n",
       "\n",
       "    .dataframe thead th {\n",
       "        text-align: right;\n",
       "    }\n",
       "</style>\n",
       "<table border=\"1\" class=\"dataframe\">\n",
       "  <thead>\n",
       "    <tr style=\"text-align: right;\">\n",
       "      <th></th>\n",
       "      <th>Unnamed: 0</th>\n",
       "      <th>Unnamed: 0.1</th>\n",
       "      <th>id</th>\n",
       "      <th>loan_default</th>\n",
       "      <th>AP001</th>\n",
       "      <th>AP002</th>\n",
       "      <th>AP003</th>\n",
       "      <th>AP004</th>\n",
       "      <th>AP005</th>\n",
       "      <th>AP006</th>\n",
       "      <th>AP007</th>\n",
       "      <th>AP008</th>\n",
       "      <th>AP009</th>\n",
       "      <th>TD001</th>\n",
       "      <th>TD002</th>\n",
       "      <th>TD005</th>\n",
       "      <th>TD006</th>\n",
       "      <th>TD009</th>\n",
       "      <th>TD010</th>\n",
       "      <th>TD013</th>\n",
       "      <th>TD014</th>\n",
       "      <th>TD015</th>\n",
       "      <th>TD022</th>\n",
       "      <th>TD023</th>\n",
       "      <th>TD024</th>\n",
       "      <th>TD025</th>\n",
       "      <th>TD026</th>\n",
       "      <th>TD027</th>\n",
       "      <th>TD028</th>\n",
       "      <th>TD029</th>\n",
       "      <th>TD044</th>\n",
       "      <th>TD048</th>\n",
       "      <th>TD051</th>\n",
       "      <th>TD054</th>\n",
       "      <th>TD055</th>\n",
       "      <th>TD061</th>\n",
       "      <th>TD062</th>\n",
       "      <th>CR004</th>\n",
       "      <th>CR005</th>\n",
       "      <th>CR009</th>\n",
       "      <th>CR012</th>\n",
       "      <th>CR015</th>\n",
       "      <th>CR017</th>\n",
       "      <th>CR018</th>\n",
       "      <th>CR019</th>\n",
       "      <th>PA022</th>\n",
       "      <th>PA023</th>\n",
       "      <th>PA028</th>\n",
       "      <th>PA029</th>\n",
       "      <th>PA030</th>\n",
       "      <th>PA031</th>\n",
       "      <th>CD008</th>\n",
       "      <th>CD018</th>\n",
       "      <th>CD071</th>\n",
       "      <th>CD072</th>\n",
       "      <th>CD088</th>\n",
       "      <th>CD100</th>\n",
       "      <th>CD101</th>\n",
       "      <th>CD106</th>\n",
       "      <th>CD107</th>\n",
       "      <th>CD108</th>\n",
       "      <th>CD113</th>\n",
       "      <th>CD114</th>\n",
       "      <th>CD115</th>\n",
       "      <th>CD117</th>\n",
       "      <th>CD118</th>\n",
       "      <th>CD120</th>\n",
       "      <th>CD121</th>\n",
       "      <th>CD123</th>\n",
       "      <th>CD130</th>\n",
       "      <th>CD131</th>\n",
       "      <th>CD132</th>\n",
       "      <th>CD133</th>\n",
       "      <th>CD135</th>\n",
       "      <th>CD136</th>\n",
       "      <th>CD137</th>\n",
       "      <th>CD152</th>\n",
       "      <th>CD153</th>\n",
       "      <th>CD160</th>\n",
       "      <th>CD162</th>\n",
       "      <th>CD164</th>\n",
       "      <th>CD166</th>\n",
       "      <th>CD167</th>\n",
       "      <th>CD169</th>\n",
       "      <th>CD170</th>\n",
       "      <th>CD172</th>\n",
       "      <th>CD173</th>\n",
       "      <th>MB005</th>\n",
       "      <th>MB007</th>\n",
       "    </tr>\n",
       "  </thead>\n",
       "  <tbody>\n",
       "    <tr>\n",
       "      <th>0</th>\n",
       "      <td>0</td>\n",
       "      <td>1</td>\n",
       "      <td>1</td>\n",
       "      <td>1</td>\n",
       "      <td>31</td>\n",
       "      <td>2</td>\n",
       "      <td>1</td>\n",
       "      <td>12</td>\n",
       "      <td>2017/7/6 10:21</td>\n",
       "      <td>ios</td>\n",
       "      <td>3</td>\n",
       "      <td>3</td>\n",
       "      <td>1</td>\n",
       "      <td>1</td>\n",
       "      <td>1</td>\n",
       "      <td>4</td>\n",
       "      <td>1</td>\n",
       "      <td>5</td>\n",
       "      <td>1</td>\n",
       "      <td>14</td>\n",
       "      <td>2</td>\n",
       "      <td>2</td>\n",
       "      <td>10.0</td>\n",
       "      <td>9.0</td>\n",
       "      <td>6.0</td>\n",
       "      <td>0.0</td>\n",
       "      <td>0.0</td>\n",
       "      <td>0.0</td>\n",
       "      <td>0.0</td>\n",
       "      <td>6.0</td>\n",
       "      <td>NaN</td>\n",
       "      <td>NaN</td>\n",
       "      <td>NaN</td>\n",
       "      <td>NaN</td>\n",
       "      <td>NaN</td>\n",
       "      <td>NaN</td>\n",
       "      <td>NaN</td>\n",
       "      <td>2</td>\n",
       "      <td>1</td>\n",
       "      <td>35807</td>\n",
       "      <td>0</td>\n",
       "      <td>4</td>\n",
       "      <td>4</td>\n",
       "      <td>3</td>\n",
       "      <td>2</td>\n",
       "      <td>-1.0</td>\n",
       "      <td>-1.0</td>\n",
       "      <td>-98.0</td>\n",
       "      <td>-98.0</td>\n",
       "      <td>-98.0</td>\n",
       "      <td>-98.0</td>\n",
       "      <td>13840.0</td>\n",
       "      <td>172.0</td>\n",
       "      <td>0.0</td>\n",
       "      <td>0.0</td>\n",
       "      <td>0.0</td>\n",
       "      <td>0.0</td>\n",
       "      <td>0.0</td>\n",
       "      <td>1.0</td>\n",
       "      <td>0.0</td>\n",
       "      <td>1.0</td>\n",
       "      <td>0.0</td>\n",
       "      <td>1.0</td>\n",
       "      <td>57.0</td>\n",
       "      <td>48.0</td>\n",
       "      <td>95.0</td>\n",
       "      <td>79.0</td>\n",
       "      <td>125.0</td>\n",
       "      <td>103.0</td>\n",
       "      <td>43.0</td>\n",
       "      <td>55.0</td>\n",
       "      <td>56.0</td>\n",
       "      <td>52.0</td>\n",
       "      <td>65.0</td>\n",
       "      <td>91.0</td>\n",
       "      <td>96.0</td>\n",
       "      <td>10900.0</td>\n",
       "      <td>12757.0</td>\n",
       "      <td>8.0</td>\n",
       "      <td>13.0</td>\n",
       "      <td>13.0</td>\n",
       "      <td>0.0</td>\n",
       "      <td>0.0</td>\n",
       "      <td>1449.0</td>\n",
       "      <td>1449.0</td>\n",
       "      <td>2249.0</td>\n",
       "      <td>2249.0</td>\n",
       "      <td>7.0</td>\n",
       "      <td>IPHONE7</td>\n",
       "    </tr>\n",
       "    <tr>\n",
       "      <th>1</th>\n",
       "      <td>1</td>\n",
       "      <td>2</td>\n",
       "      <td>2</td>\n",
       "      <td>0</td>\n",
       "      <td>27</td>\n",
       "      <td>1</td>\n",
       "      <td>1</td>\n",
       "      <td>12</td>\n",
       "      <td>2017/4/6 12:51</td>\n",
       "      <td>h5</td>\n",
       "      <td>5</td>\n",
       "      <td>4</td>\n",
       "      <td>0</td>\n",
       "      <td>2</td>\n",
       "      <td>0</td>\n",
       "      <td>3</td>\n",
       "      <td>1</td>\n",
       "      <td>3</td>\n",
       "      <td>1</td>\n",
       "      <td>3</td>\n",
       "      <td>2</td>\n",
       "      <td>0</td>\n",
       "      <td>15.0</td>\n",
       "      <td>6.0</td>\n",
       "      <td>0.0</td>\n",
       "      <td>0.0</td>\n",
       "      <td>0.0</td>\n",
       "      <td>0.0</td>\n",
       "      <td>0.0</td>\n",
       "      <td>6.0</td>\n",
       "      <td>NaN</td>\n",
       "      <td>NaN</td>\n",
       "      <td>NaN</td>\n",
       "      <td>NaN</td>\n",
       "      <td>NaN</td>\n",
       "      <td>NaN</td>\n",
       "      <td>NaN</td>\n",
       "      <td>3</td>\n",
       "      <td>1</td>\n",
       "      <td>7254</td>\n",
       "      <td>0</td>\n",
       "      <td>6</td>\n",
       "      <td>7</td>\n",
       "      <td>6</td>\n",
       "      <td>11</td>\n",
       "      <td>-1.0</td>\n",
       "      <td>-1.0</td>\n",
       "      <td>-98.0</td>\n",
       "      <td>-98.0</td>\n",
       "      <td>-98.0</td>\n",
       "      <td>-98.0</td>\n",
       "      <td>-99.0</td>\n",
       "      <td>-99.0</td>\n",
       "      <td>-99.0</td>\n",
       "      <td>-99.0</td>\n",
       "      <td>-99.0</td>\n",
       "      <td>-99.0</td>\n",
       "      <td>-99.0</td>\n",
       "      <td>-99.0</td>\n",
       "      <td>-99.0</td>\n",
       "      <td>-99.0</td>\n",
       "      <td>-99.0</td>\n",
       "      <td>-99.0</td>\n",
       "      <td>-99.0</td>\n",
       "      <td>-99.0</td>\n",
       "      <td>-99.0</td>\n",
       "      <td>-99.0</td>\n",
       "      <td>-99.0</td>\n",
       "      <td>-99.0</td>\n",
       "      <td>-99.0</td>\n",
       "      <td>-99.0</td>\n",
       "      <td>-99.0</td>\n",
       "      <td>-99.0</td>\n",
       "      <td>-99.0</td>\n",
       "      <td>-99.0</td>\n",
       "      <td>-99.0</td>\n",
       "      <td>-99.0</td>\n",
       "      <td>-99.0</td>\n",
       "      <td>-99.0</td>\n",
       "      <td>-99.0</td>\n",
       "      <td>-99.0</td>\n",
       "      <td>-99.0</td>\n",
       "      <td>-99.0</td>\n",
       "      <td>-99.0</td>\n",
       "      <td>-99.0</td>\n",
       "      <td>-99.0</td>\n",
       "      <td>-99.0</td>\n",
       "      <td>NaN</td>\n",
       "      <td>WEB</td>\n",
       "    </tr>\n",
       "  </tbody>\n",
       "</table>\n",
       "</div>"
      ],
      "text/plain": [
       "   Unnamed: 0  Unnamed: 0.1  id  loan_default  AP001  AP002  AP003  AP004  \\\n",
       "0           0             1   1             1     31      2      1     12   \n",
       "1           1             2   2             0     27      1      1     12   \n",
       "\n",
       "            AP005 AP006  AP007  AP008  AP009  TD001  TD002  TD005  TD006  \\\n",
       "0  2017/7/6 10:21   ios      3      3      1      1      1      4      1   \n",
       "1  2017/4/6 12:51    h5      5      4      0      2      0      3      1   \n",
       "\n",
       "   TD009  TD010  TD013  TD014  TD015  TD022  TD023  TD024  TD025  TD026  \\\n",
       "0      5      1     14      2      2   10.0    9.0    6.0    0.0    0.0   \n",
       "1      3      1      3      2      0   15.0    6.0    0.0    0.0    0.0   \n",
       "\n",
       "   TD027  TD028  TD029  TD044  TD048  TD051  TD054  TD055  TD061  TD062  \\\n",
       "0    0.0    0.0    6.0    NaN    NaN    NaN    NaN    NaN    NaN    NaN   \n",
       "1    0.0    0.0    6.0    NaN    NaN    NaN    NaN    NaN    NaN    NaN   \n",
       "\n",
       "   CR004  CR005  CR009  CR012  CR015  CR017  CR018  CR019  PA022  PA023  \\\n",
       "0      2      1  35807      0      4      4      3      2   -1.0   -1.0   \n",
       "1      3      1   7254      0      6      7      6     11   -1.0   -1.0   \n",
       "\n",
       "   PA028  PA029  PA030  PA031    CD008  CD018  CD071  CD072  CD088  CD100  \\\n",
       "0  -98.0  -98.0  -98.0  -98.0  13840.0  172.0    0.0    0.0    0.0    0.0   \n",
       "1  -98.0  -98.0  -98.0  -98.0    -99.0  -99.0  -99.0  -99.0  -99.0  -99.0   \n",
       "\n",
       "   CD101  CD106  CD107  CD108  CD113  CD114  CD115  CD117  CD118  CD120  \\\n",
       "0    0.0    1.0    0.0    1.0    0.0    1.0   57.0   48.0   95.0   79.0   \n",
       "1  -99.0  -99.0  -99.0  -99.0  -99.0  -99.0  -99.0  -99.0  -99.0  -99.0   \n",
       "\n",
       "   CD121  CD123  CD130  CD131  CD132  CD133  CD135  CD136  CD137    CD152  \\\n",
       "0  125.0  103.0   43.0   55.0   56.0   52.0   65.0   91.0   96.0  10900.0   \n",
       "1  -99.0  -99.0  -99.0  -99.0  -99.0  -99.0  -99.0  -99.0  -99.0    -99.0   \n",
       "\n",
       "     CD153  CD160  CD162  CD164  CD166  CD167   CD169   CD170   CD172   CD173  \\\n",
       "0  12757.0    8.0   13.0   13.0    0.0    0.0  1449.0  1449.0  2249.0  2249.0   \n",
       "1    -99.0  -99.0  -99.0  -99.0  -99.0  -99.0   -99.0   -99.0   -99.0   -99.0   \n",
       "\n",
       "   MB005    MB007  \n",
       "0    7.0  IPHONE7  \n",
       "1    NaN      WEB  "
      ]
     },
     "execution_count": 3,
     "metadata": {},
     "output_type": "execute_result"
    }
   ],
   "source": [
    "pd.set_option('display.max_columns', 100)\n",
    "df.head(2)"
   ]
  },
  {
   "cell_type": "code",
   "execution_count": 6,
   "metadata": {},
   "outputs": [],
   "source": [
    "#df.info()"
   ]
  },
  {
   "cell_type": "code",
   "execution_count": 4,
   "metadata": {},
   "outputs": [],
   "source": [
    "# drop columns with too many missing values\n",
    "df = df.drop(columns = ['Unnamed: 0', 'Unnamed: 0.1', 'TD044', 'TD048', 'TD051', 'TD054', 'TD055', 'TD061', 'TD062'])"
   ]
  },
  {
   "cell_type": "code",
   "execution_count": 5,
   "metadata": {},
   "outputs": [
    {
     "data": {
      "text/plain": [
       "-98.0    0.632988\n",
       "-99.0    0.019175\n",
       "Name: PA028, dtype: float64"
      ]
     },
     "execution_count": 5,
     "metadata": {},
     "output_type": "execute_result"
    }
   ],
   "source": [
    "#check the values of -99, -98, -999\n",
    "(df.PA028.value_counts()/len(df)).head(2)"
   ]
  },
  {
   "cell_type": "code",
   "execution_count": 6,
   "metadata": {},
   "outputs": [
    {
     "data": {
      "text/plain": [
       "-98.0    0.663575\n",
       "-99.0    0.019175\n",
       "Name: PA029, dtype: float64"
      ]
     },
     "execution_count": 6,
     "metadata": {},
     "output_type": "execute_result"
    }
   ],
   "source": [
    "(df.PA029.value_counts()/len(df)).head(2)"
   ]
  },
  {
   "cell_type": "code",
   "execution_count": 7,
   "metadata": {},
   "outputs": [
    {
     "data": {
      "text/plain": [
       "-98.0    0.848575\n",
       "-99.0    0.019175\n",
       "Name: PA030, dtype: float64"
      ]
     },
     "execution_count": 7,
     "metadata": {},
     "output_type": "execute_result"
    }
   ],
   "source": [
    "(df.PA030.value_counts()/len(df)).head(2)"
   ]
  },
  {
   "cell_type": "code",
   "execution_count": 8,
   "metadata": {},
   "outputs": [
    {
     "data": {
      "text/plain": [
       "-98.0    0.700050\n",
       "-99.0    0.019175\n",
       "Name: PA031, dtype: float64"
      ]
     },
     "execution_count": 8,
     "metadata": {},
     "output_type": "execute_result"
    }
   ],
   "source": [
    "(df.PA031.value_counts()/len(df)).head(2)"
   ]
  },
  {
   "cell_type": "code",
   "execution_count": 9,
   "metadata": {},
   "outputs": [],
   "source": [
    "# these columns have too many -99 and -98, need to be dropped\n",
    "df = df.drop(columns = ['PA028', 'PA029', 'PA030', 'PA031'])"
   ]
  },
  {
   "cell_type": "code",
   "execution_count": 10,
   "metadata": {},
   "outputs": [],
   "source": [
    "# drop rows with too many -99, -98, -999\n",
    "for index, row in df.iterrows():\n",
    "    if row['PA022'] == -99.0 and row['PA023'] == -99.0 and row['CD008'] == -99.0:\n",
    "        df.drop(index, inplace=True)   "
   ]
  },
  {
   "cell_type": "code",
   "execution_count": 11,
   "metadata": {},
   "outputs": [
    {
     "data": {
      "text/plain": [
       "id                 0\n",
       "loan_default       0\n",
       "AP001              0\n",
       "AP002              0\n",
       "AP003              0\n",
       "                ... \n",
       "CD170            381\n",
       "CD172            381\n",
       "CD173            381\n",
       "MB005           1553\n",
       "MB007              0\n",
       "Length: 76, dtype: int64"
      ]
     },
     "execution_count": 11,
     "metadata": {},
     "output_type": "execute_result"
    }
   ],
   "source": [
    "#check missing values\n",
    "df.isna().sum()"
   ]
  },
  {
   "cell_type": "code",
   "execution_count": 12,
   "metadata": {},
   "outputs": [],
   "source": [
    "#drop missing values\n",
    "df = df.dropna()"
   ]
  },
  {
   "cell_type": "markdown",
   "metadata": {},
   "source": [
    "### Random Undersampling"
   ]
  },
  {
   "cell_type": "code",
   "execution_count": 13,
   "metadata": {},
   "outputs": [],
   "source": [
    "from imblearn.under_sampling import RandomUnderSampler\n",
    "\n",
    "y = df[\"loan_default\"].copy()\n",
    "rus = RandomUnderSampler(random_state=0)\n",
    "df_resampled, y_resampled = rus.fit_sample(df, y)"
   ]
  },
  {
   "cell_type": "code",
   "execution_count": 14,
   "metadata": {},
   "outputs": [
    {
     "data": {
      "text/plain": [
       "23872"
      ]
     },
     "execution_count": 14,
     "metadata": {},
     "output_type": "execute_result"
    }
   ],
   "source": [
    "len(df_resampled)"
   ]
  },
  {
   "cell_type": "markdown",
   "metadata": {},
   "source": [
    "### Label Encoder"
   ]
  },
  {
   "cell_type": "code",
   "execution_count": 15,
   "metadata": {},
   "outputs": [],
   "source": [
    "from sklearn.preprocessing import OneHotEncoder\n",
    "\n",
    "ohe = OneHotEncoder(sparse = False)\n",
    "AP005 = ohe.fit_transform(df_resampled[['AP005']])\n",
    "df_resampled['AP005'] = AP005\n",
    "\n",
    "AP006 = ohe.fit_transform(df_resampled[['AP006']])\n",
    "df_resampled['AP006'] = AP006\n",
    "\n",
    "MB007 = ohe.fit_transform(df_resampled[['MB007']])\n",
    "df_resampled['MB007'] = MB007"
   ]
  },
  {
   "cell_type": "markdown",
   "metadata": {},
   "source": [
    "### Split Data"
   ]
  },
  {
   "cell_type": "code",
   "execution_count": 16,
   "metadata": {},
   "outputs": [],
   "source": [
    "from sklearn.model_selection import train_test_split\n",
    "train, test = train_test_split(df_resampled, test_size=0.30, random_state=0)"
   ]
  },
  {
   "cell_type": "markdown",
   "metadata": {},
   "source": [
    "## (1) GLM"
   ]
  },
  {
   "cell_type": "code",
   "execution_count": 17,
   "metadata": {},
   "outputs": [
    {
     "name": "stdout",
     "output_type": "stream",
     "text": [
      "Checking whether there is an H2O instance running at http://localhost:54321 ..... not found.\n",
      "Attempting to start a local H2O server...\n",
      "  Java Version: openjdk version \"1.8.0_152-release\"; OpenJDK Runtime Environment (build 1.8.0_152-release-1056-b12); OpenJDK 64-Bit Server VM (build 25.152-b12, mixed mode)\n",
      "  Starting server from /Users/yihengshen/.local/lib/python3.7/site-packages/h2o/backend/bin/h2o.jar\n",
      "  Ice root: /var/folders/7t/kxwj0tvn11s88d879bt0277w0000gn/T/tmprnwjqr17\n",
      "  JVM stdout: /var/folders/7t/kxwj0tvn11s88d879bt0277w0000gn/T/tmprnwjqr17/h2o_yihengshen_started_from_python.out\n",
      "  JVM stderr: /var/folders/7t/kxwj0tvn11s88d879bt0277w0000gn/T/tmprnwjqr17/h2o_yihengshen_started_from_python.err\n",
      "  Server is running at http://127.0.0.1:54321\n",
      "Connecting to H2O server at http://127.0.0.1:54321 ... successful.\n"
     ]
    },
    {
     "data": {
      "text/html": [
       "<div style=\"overflow:auto\"><table style=\"width:50%\"><tr><td>H2O_cluster_uptime:</td>\n",
       "<td>03 secs</td></tr>\n",
       "<tr><td>H2O_cluster_timezone:</td>\n",
       "<td>America/New_York</td></tr>\n",
       "<tr><td>H2O_data_parsing_timezone:</td>\n",
       "<td>UTC</td></tr>\n",
       "<tr><td>H2O_cluster_version:</td>\n",
       "<td>3.30.1.3</td></tr>\n",
       "<tr><td>H2O_cluster_version_age:</td>\n",
       "<td>1 month and 26 days </td></tr>\n",
       "<tr><td>H2O_cluster_name:</td>\n",
       "<td>H2O_from_python_yihengshen_99nnac</td></tr>\n",
       "<tr><td>H2O_cluster_total_nodes:</td>\n",
       "<td>1</td></tr>\n",
       "<tr><td>H2O_cluster_free_memory:</td>\n",
       "<td>1.778 Gb</td></tr>\n",
       "<tr><td>H2O_cluster_total_cores:</td>\n",
       "<td>4</td></tr>\n",
       "<tr><td>H2O_cluster_allowed_cores:</td>\n",
       "<td>4</td></tr>\n",
       "<tr><td>H2O_cluster_status:</td>\n",
       "<td>accepting new members, healthy</td></tr>\n",
       "<tr><td>H2O_connection_url:</td>\n",
       "<td>http://127.0.0.1:54321</td></tr>\n",
       "<tr><td>H2O_connection_proxy:</td>\n",
       "<td>{\"http\": null, \"https\": null}</td></tr>\n",
       "<tr><td>H2O_internal_security:</td>\n",
       "<td>False</td></tr>\n",
       "<tr><td>H2O_API_Extensions:</td>\n",
       "<td>Amazon S3, XGBoost, Algos, AutoML, Core V3, TargetEncoder, Core V4</td></tr>\n",
       "<tr><td>Python_version:</td>\n",
       "<td>3.7.2 final</td></tr></table></div>"
      ],
      "text/plain": [
       "--------------------------  ------------------------------------------------------------------\n",
       "H2O_cluster_uptime:         03 secs\n",
       "H2O_cluster_timezone:       America/New_York\n",
       "H2O_data_parsing_timezone:  UTC\n",
       "H2O_cluster_version:        3.30.1.3\n",
       "H2O_cluster_version_age:    1 month and 26 days\n",
       "H2O_cluster_name:           H2O_from_python_yihengshen_99nnac\n",
       "H2O_cluster_total_nodes:    1\n",
       "H2O_cluster_free_memory:    1.778 Gb\n",
       "H2O_cluster_total_cores:    4\n",
       "H2O_cluster_allowed_cores:  4\n",
       "H2O_cluster_status:         accepting new members, healthy\n",
       "H2O_connection_url:         http://127.0.0.1:54321\n",
       "H2O_connection_proxy:       {\"http\": null, \"https\": null}\n",
       "H2O_internal_security:      False\n",
       "H2O_API_Extensions:         Amazon S3, XGBoost, Algos, AutoML, Core V3, TargetEncoder, Core V4\n",
       "Python_version:             3.7.2 final\n",
       "--------------------------  ------------------------------------------------------------------"
      ]
     },
     "metadata": {},
     "output_type": "display_data"
    }
   ],
   "source": [
    "import h2o\n",
    "h2o.init()\n",
    "from h2o.estimators.glm import H2OGeneralizedLinearEstimator"
   ]
  },
  {
   "cell_type": "code",
   "execution_count": 18,
   "metadata": {},
   "outputs": [
    {
     "name": "stdout",
     "output_type": "stream",
     "text": [
      "Parse progress: |█████████████████████████████████████████████████████████| 100%\n",
      "Parse progress: |█████████████████████████████████████████████████████████| 100%\n"
     ]
    }
   ],
   "source": [
    "train_hex = h2o.H2OFrame(train)\n",
    "test_hex = h2o.H2OFrame(test)"
   ]
  },
  {
   "cell_type": "code",
   "execution_count": 19,
   "metadata": {},
   "outputs": [],
   "source": [
    "predictors = ['AP001', 'AP002', 'AP003', 'AP004', 'AP005', 'AP006', 'AP007', 'AP008', 'AP009', 'TD001', 'TD002', \n",
    "              'TD005', 'TD006', 'TD009', 'TD010', 'TD013', 'TD014', 'TD015', 'TD022', 'TD023', 'TD024', 'TD025', \n",
    "              'TD026', 'TD027', 'TD028', 'TD029', 'CR004', 'CR005', 'CR009', 'CR012', 'CR015', 'CR017', 'CR018', \n",
    "              'CR019', 'PA022', 'PA023', 'CD008', 'CD018', 'CD071', 'CD072', 'CD088', 'CD100', 'CD101', 'CD106', \n",
    "              'CD107', 'CD108', 'CD113', 'CD114', 'CD115', 'CD117', 'CD118', 'CD120', 'CD121', 'CD123', 'CD130', \n",
    "              'CD131', 'CD132', 'CD133', 'CD135', 'CD136', 'CD137', 'CD152', 'CD153', 'CD160', 'CD162', 'CD164', \n",
    "              'CD166', 'CD167', 'CD169', 'CD170', 'CD172', 'CD173', 'MB005', 'MB007']\n",
    "target = \"loan_default\""
   ]
  },
  {
   "cell_type": "code",
   "execution_count": 31,
   "metadata": {},
   "outputs": [
    {
     "name": "stdout",
     "output_type": "stream",
     "text": [
      "glm Model Build progress: |███████████████████████████████████████████████| 100%\n"
     ]
    }
   ],
   "source": [
    "#No regularization\n",
    "glm_model = H2OGeneralizedLinearEstimator(family= \"binomial\",\n",
    "                                          lambda_ = 0,\n",
    "                                          compute_p_values = True)\n",
    "\n",
    "glm_model.train(predictors,target,training_frame=train_hex)"
   ]
  },
  {
   "cell_type": "code",
   "execution_count": 58,
   "metadata": {},
   "outputs": [],
   "source": [
    "from h2o.grid.grid_search import H2OGridSearch"
   ]
  },
  {
   "cell_type": "code",
   "execution_count": 78,
   "metadata": {},
   "outputs": [
    {
     "name": "stdout",
     "output_type": "stream",
     "text": [
      "glm Grid Build progress: |████████████████████████████████████████████████| 100%\n"
     ]
    }
   ],
   "source": [
    "#lasso -- L1 penalty\n",
    "hyper_params = {'alpha': [1],\n",
    "                'lambda': [0.01, 0.1, 0.25, 0.5, 0.75, 1]}\n",
    "lasso_model = H2OGeneralizedLinearEstimator(family= \"binomial\")\n",
    "\n",
    "grid = H2OGridSearch(model = lasso_model, \n",
    "                     hyper_params = hyper_params)\n",
    "\n",
    "grid.train(predictors,target,training_frame=train_hex)"
   ]
  },
  {
   "cell_type": "code",
   "execution_count": 79,
   "metadata": {},
   "outputs": [
    {
     "data": {
      "text/plain": [
       "'[0.01]'"
      ]
     },
     "execution_count": 79,
     "metadata": {},
     "output_type": "execute_result"
    }
   ],
   "source": [
    "best_lambda = grid.sorted_metric_table()['lambda'][0]\n",
    "best_lambda"
   ]
  },
  {
   "cell_type": "code",
   "execution_count": 80,
   "metadata": {},
   "outputs": [
    {
     "name": "stdout",
     "output_type": "stream",
     "text": [
      "glm Model Build progress: |███████████████████████████████████████████████| 100%\n"
     ]
    }
   ],
   "source": [
    "lasso = H2OGeneralizedLinearEstimator(family= \"binomial\",\n",
    "                                      alpha = 1,\n",
    "                                      lambda_ = 0.01)\n",
    "lasso.train(predictors,target,training_frame=train_hex)"
   ]
  },
  {
   "cell_type": "code",
   "execution_count": 90,
   "metadata": {},
   "outputs": [
    {
     "name": "stdout",
     "output_type": "stream",
     "text": [
      "glm Grid Build progress: |████████████████████████████████████████████████| 100%\n"
     ]
    }
   ],
   "source": [
    "#ridge -- L2 penalty\n",
    "hyper_params = {'alpha': [0],\n",
    "                'lambda': [0.01, 0.1, 0.25, 0.5, 0.75, 1]}\n",
    "ridge_model = H2OGeneralizedLinearEstimator(family= \"binomial\")\n",
    "\n",
    "grid = H2OGridSearch(model = ridge_model, \n",
    "                     hyper_params = hyper_params)\n",
    "\n",
    "grid.train(predictors,target,training_frame=train_hex)"
   ]
  },
  {
   "cell_type": "code",
   "execution_count": 91,
   "metadata": {},
   "outputs": [
    {
     "data": {
      "text/plain": [
       "'[0.01]'"
      ]
     },
     "execution_count": 91,
     "metadata": {},
     "output_type": "execute_result"
    }
   ],
   "source": [
    "best_lambda = grid.sorted_metric_table()['lambda'][0]\n",
    "best_lambda"
   ]
  },
  {
   "cell_type": "code",
   "execution_count": 84,
   "metadata": {},
   "outputs": [
    {
     "name": "stdout",
     "output_type": "stream",
     "text": [
      "glm Model Build progress: |███████████████████████████████████████████████| 100%\n"
     ]
    }
   ],
   "source": [
    "ridge = H2OGeneralizedLinearEstimator(family= \"binomial\",\n",
    "                                      alpha = 0,\n",
    "                                      lambda_ = 0.01)\n",
    "ridge.train(predictors,target,training_frame=train_hex)"
   ]
  },
  {
   "cell_type": "markdown",
   "metadata": {},
   "source": [
    "### model evaluation"
   ]
  },
  {
   "cell_type": "code",
   "execution_count": 23,
   "metadata": {},
   "outputs": [],
   "source": [
    "from sklearn.metrics import roc_curve,auc\n",
    "from sklearn.metrics import average_precision_score\n",
    "from sklearn.metrics import precision_recall_curve\n",
    "import matplotlib.pyplot as plt"
   ]
  },
  {
   "cell_type": "code",
   "execution_count": 32,
   "metadata": {},
   "outputs": [],
   "source": [
    "def ROC_LIFT(my_result,df,target):    \n",
    "    # ROC\n",
    "    y_actual = df[target].as_data_frame()\n",
    "    y_pred = my_result.predict(df).as_data_frame()\n",
    "    y_pred = y_pred['predict']\n",
    "    fpr = list()\n",
    "    tpr = list()\n",
    "    roc_auc = list()\n",
    "    fpr,tpr,_ = roc_curve(y_actual,y_pred)\n",
    "    roc_auc = auc(fpr,tpr)\n",
    "\n",
    "    # plotting\n",
    "    plt.figure(figsize=(5,5))\n",
    "    plt.plot(fpr,tpr,color='darkorange',lw=2,label='ROC curve (aare=%0.2f)' % roc_auc)\n",
    "    plt.plot([0,1],[0,1],color='navy',lw=3,linestyle='--')\n",
    "    plt.xlim([0.0,1.0])\n",
    "    plt.ylim([0.0,1.05])\n",
    "    plt.xlabel('False Positive Rate')\n",
    "    plt.ylabel('True Positive Rate')\n",
    "    plt.title('Receiver operating characteristic: AUC={0:0.4f}'.format(roc_auc))\n",
    "    plt.legend(loc='lower right')\n",
    "    \n",
    "    #LIFT Table\n",
    "    predictions = my_result.predict(test_hex)\n",
    "    test_scores = test_hex['loan_default'].cbind(predictions).as_data_frame()\n",
    "\n",
    "    #sort on prediction (descending), add id, and decile for groups containing 1/10 of datapoints\n",
    "    test_scores = test_scores.sort_values(by='predict',ascending=False)\n",
    "    test_scores['row_id'] = range(0,0+len(test_scores))\n",
    "    test_scores['decile'] = ( test_scores['row_id'] / (len(test_scores)/10) ).astype(int)\n",
    "    #see count by decile\n",
    "    test_scores.loc[test_scores['decile'] == 10]=9\n",
    "    test_scores['decile'].value_counts()\n",
    "\n",
    "    #create gains table\n",
    "    gains = test_scores.groupby('decile')['loan_default'].agg(['count','sum'])\n",
    "    gains.columns = ['count','actual']\n",
    "\n",
    "    #add features to gains table\n",
    "    gains['non_actual'] = gains['count'] - gains['actual']\n",
    "    gains['cum_count'] = gains['count'].cumsum()\n",
    "    gains['cum_actual'] = gains['actual'].cumsum()\n",
    "    gains['cum_non_actual'] = gains['non_actual'].cumsum()\n",
    "    gains['percent_cum_actual'] = (gains['cum_actual'] / np.max(gains['cum_actual'])).round(2)\n",
    "    gains['percent_cum_non_actual'] = (gains['cum_non_actual'] / np.max(gains['cum_non_actual'])).round(2)\n",
    "    gains['if_random'] = np.max(gains['cum_actual']) /10 \n",
    "    gains['if_random'] = gains['if_random'].cumsum()\n",
    "    gains['lift'] = (gains['cum_actual'] / gains['if_random']).round(2)\n",
    "    gains['K_S'] = np.abs( gains['percent_cum_actual'] -  gains['percent_cum_non_actual'] ) * 100\n",
    "    gains['gain']=(gains['cum_actual']/gains['cum_count']*100).round(2)\n",
    "    gains = pd.DataFrame(gains)\n",
    "    \n",
    "    return(gains)"
   ]
  },
  {
   "cell_type": "code",
   "execution_count": 33,
   "metadata": {},
   "outputs": [
    {
     "name": "stdout",
     "output_type": "stream",
     "text": [
      "glm prediction progress: |████████████████████████████████████████████████| 100%\n",
      "glm prediction progress: |████████████████████████████████████████████████| 100%\n"
     ]
    },
    {
     "data": {
      "text/html": [
       "<div>\n",
       "<style scoped>\n",
       "    .dataframe tbody tr th:only-of-type {\n",
       "        vertical-align: middle;\n",
       "    }\n",
       "\n",
       "    .dataframe tbody tr th {\n",
       "        vertical-align: top;\n",
       "    }\n",
       "\n",
       "    .dataframe thead th {\n",
       "        text-align: right;\n",
       "    }\n",
       "</style>\n",
       "<table border=\"1\" class=\"dataframe\">\n",
       "  <thead>\n",
       "    <tr style=\"text-align: right;\">\n",
       "      <th></th>\n",
       "      <th>count</th>\n",
       "      <th>actual</th>\n",
       "      <th>non_actual</th>\n",
       "      <th>cum_count</th>\n",
       "      <th>cum_actual</th>\n",
       "      <th>cum_non_actual</th>\n",
       "      <th>percent_cum_actual</th>\n",
       "      <th>percent_cum_non_actual</th>\n",
       "      <th>if_random</th>\n",
       "      <th>lift</th>\n",
       "      <th>K_S</th>\n",
       "      <th>gain</th>\n",
       "    </tr>\n",
       "    <tr>\n",
       "      <th>decile</th>\n",
       "      <th></th>\n",
       "      <th></th>\n",
       "      <th></th>\n",
       "      <th></th>\n",
       "      <th></th>\n",
       "      <th></th>\n",
       "      <th></th>\n",
       "      <th></th>\n",
       "      <th></th>\n",
       "      <th></th>\n",
       "      <th></th>\n",
       "      <th></th>\n",
       "    </tr>\n",
       "  </thead>\n",
       "  <tbody>\n",
       "    <tr>\n",
       "      <th>0</th>\n",
       "      <td>717</td>\n",
       "      <td>393</td>\n",
       "      <td>324</td>\n",
       "      <td>717</td>\n",
       "      <td>393</td>\n",
       "      <td>324</td>\n",
       "      <td>0.11</td>\n",
       "      <td>0.09</td>\n",
       "      <td>353.4</td>\n",
       "      <td>1.11</td>\n",
       "      <td>2.0</td>\n",
       "      <td>54.81</td>\n",
       "    </tr>\n",
       "    <tr>\n",
       "      <th>1</th>\n",
       "      <td>716</td>\n",
       "      <td>406</td>\n",
       "      <td>310</td>\n",
       "      <td>1433</td>\n",
       "      <td>799</td>\n",
       "      <td>634</td>\n",
       "      <td>0.23</td>\n",
       "      <td>0.17</td>\n",
       "      <td>706.8</td>\n",
       "      <td>1.13</td>\n",
       "      <td>6.0</td>\n",
       "      <td>55.76</td>\n",
       "    </tr>\n",
       "    <tr>\n",
       "      <th>2</th>\n",
       "      <td>716</td>\n",
       "      <td>387</td>\n",
       "      <td>329</td>\n",
       "      <td>2149</td>\n",
       "      <td>1186</td>\n",
       "      <td>963</td>\n",
       "      <td>0.34</td>\n",
       "      <td>0.27</td>\n",
       "      <td>1060.2</td>\n",
       "      <td>1.12</td>\n",
       "      <td>7.0</td>\n",
       "      <td>55.19</td>\n",
       "    </tr>\n",
       "    <tr>\n",
       "      <th>3</th>\n",
       "      <td>716</td>\n",
       "      <td>401</td>\n",
       "      <td>315</td>\n",
       "      <td>2865</td>\n",
       "      <td>1587</td>\n",
       "      <td>1278</td>\n",
       "      <td>0.45</td>\n",
       "      <td>0.35</td>\n",
       "      <td>1413.6</td>\n",
       "      <td>1.12</td>\n",
       "      <td>10.0</td>\n",
       "      <td>55.39</td>\n",
       "    </tr>\n",
       "    <tr>\n",
       "      <th>4</th>\n",
       "      <td>716</td>\n",
       "      <td>373</td>\n",
       "      <td>343</td>\n",
       "      <td>3581</td>\n",
       "      <td>1960</td>\n",
       "      <td>1621</td>\n",
       "      <td>0.55</td>\n",
       "      <td>0.45</td>\n",
       "      <td>1767.0</td>\n",
       "      <td>1.11</td>\n",
       "      <td>10.0</td>\n",
       "      <td>54.73</td>\n",
       "    </tr>\n",
       "    <tr>\n",
       "      <th>5</th>\n",
       "      <td>717</td>\n",
       "      <td>401</td>\n",
       "      <td>316</td>\n",
       "      <td>4298</td>\n",
       "      <td>2361</td>\n",
       "      <td>1937</td>\n",
       "      <td>0.67</td>\n",
       "      <td>0.53</td>\n",
       "      <td>2120.4</td>\n",
       "      <td>1.11</td>\n",
       "      <td>14.0</td>\n",
       "      <td>54.93</td>\n",
       "    </tr>\n",
       "    <tr>\n",
       "      <th>6</th>\n",
       "      <td>716</td>\n",
       "      <td>394</td>\n",
       "      <td>322</td>\n",
       "      <td>5014</td>\n",
       "      <td>2755</td>\n",
       "      <td>2259</td>\n",
       "      <td>0.78</td>\n",
       "      <td>0.62</td>\n",
       "      <td>2473.8</td>\n",
       "      <td>1.11</td>\n",
       "      <td>16.0</td>\n",
       "      <td>54.95</td>\n",
       "    </tr>\n",
       "    <tr>\n",
       "      <th>7</th>\n",
       "      <td>716</td>\n",
       "      <td>407</td>\n",
       "      <td>309</td>\n",
       "      <td>5730</td>\n",
       "      <td>3162</td>\n",
       "      <td>2568</td>\n",
       "      <td>0.89</td>\n",
       "      <td>0.71</td>\n",
       "      <td>2827.2</td>\n",
       "      <td>1.12</td>\n",
       "      <td>18.0</td>\n",
       "      <td>55.18</td>\n",
       "    </tr>\n",
       "    <tr>\n",
       "      <th>8</th>\n",
       "      <td>716</td>\n",
       "      <td>198</td>\n",
       "      <td>518</td>\n",
       "      <td>6446</td>\n",
       "      <td>3360</td>\n",
       "      <td>3086</td>\n",
       "      <td>0.95</td>\n",
       "      <td>0.85</td>\n",
       "      <td>3180.6</td>\n",
       "      <td>1.06</td>\n",
       "      <td>10.0</td>\n",
       "      <td>52.13</td>\n",
       "    </tr>\n",
       "    <tr>\n",
       "      <th>9</th>\n",
       "      <td>716</td>\n",
       "      <td>174</td>\n",
       "      <td>542</td>\n",
       "      <td>7162</td>\n",
       "      <td>3534</td>\n",
       "      <td>3628</td>\n",
       "      <td>1.00</td>\n",
       "      <td>1.00</td>\n",
       "      <td>3534.0</td>\n",
       "      <td>1.00</td>\n",
       "      <td>0.0</td>\n",
       "      <td>49.34</td>\n",
       "    </tr>\n",
       "  </tbody>\n",
       "</table>\n",
       "</div>"
      ],
      "text/plain": [
       "        count  actual  non_actual  cum_count  cum_actual  cum_non_actual  \\\n",
       "decile                                                                     \n",
       "0         717     393         324        717         393             324   \n",
       "1         716     406         310       1433         799             634   \n",
       "2         716     387         329       2149        1186             963   \n",
       "3         716     401         315       2865        1587            1278   \n",
       "4         716     373         343       3581        1960            1621   \n",
       "5         717     401         316       4298        2361            1937   \n",
       "6         716     394         322       5014        2755            2259   \n",
       "7         716     407         309       5730        3162            2568   \n",
       "8         716     198         518       6446        3360            3086   \n",
       "9         716     174         542       7162        3534            3628   \n",
       "\n",
       "        percent_cum_actual  percent_cum_non_actual  if_random  lift   K_S  \\\n",
       "decile                                                                      \n",
       "0                     0.11                    0.09      353.4  1.11   2.0   \n",
       "1                     0.23                    0.17      706.8  1.13   6.0   \n",
       "2                     0.34                    0.27     1060.2  1.12   7.0   \n",
       "3                     0.45                    0.35     1413.6  1.12  10.0   \n",
       "4                     0.55                    0.45     1767.0  1.11  10.0   \n",
       "5                     0.67                    0.53     2120.4  1.11  14.0   \n",
       "6                     0.78                    0.62     2473.8  1.11  16.0   \n",
       "7                     0.89                    0.71     2827.2  1.12  18.0   \n",
       "8                     0.95                    0.85     3180.6  1.06  10.0   \n",
       "9                     1.00                    1.00     3534.0  1.00   0.0   \n",
       "\n",
       "         gain  \n",
       "decile         \n",
       "0       54.81  \n",
       "1       55.76  \n",
       "2       55.19  \n",
       "3       55.39  \n",
       "4       54.73  \n",
       "5       54.93  \n",
       "6       54.95  \n",
       "7       55.18  \n",
       "8       52.13  \n",
       "9       49.34  "
      ]
     },
     "execution_count": 33,
     "metadata": {},
     "output_type": "execute_result"
    },
    {
     "data": {
      "image/png": "[encoded data removed]",
      "text/plain": [
       "<Figure size 360x360 with 1 Axes>"
      ]
     },
     "metadata": {
      "needs_background": "light"
     },
     "output_type": "display_data"
    }
   ],
   "source": [
    "ROC_LIFT(glm_model,test_hex,'loan_default')"
   ]
  },
  {
   "cell_type": "code",
   "execution_count": 81,
   "metadata": {},
   "outputs": [
    {
     "name": "stdout",
     "output_type": "stream",
     "text": [
      "glm prediction progress: |████████████████████████████████████████████████| 100%\n",
      "glm prediction progress: |████████████████████████████████████████████████| 100%\n"
     ]
    },
    {
     "data": {
      "text/html": [
       "<div>\n",
       "<style scoped>\n",
       "    .dataframe tbody tr th:only-of-type {\n",
       "        vertical-align: middle;\n",
       "    }\n",
       "\n",
       "    .dataframe tbody tr th {\n",
       "        vertical-align: top;\n",
       "    }\n",
       "\n",
       "    .dataframe thead th {\n",
       "        text-align: right;\n",
       "    }\n",
       "</style>\n",
       "<table border=\"1\" class=\"dataframe\">\n",
       "  <thead>\n",
       "    <tr style=\"text-align: right;\">\n",
       "      <th></th>\n",
       "      <th>count</th>\n",
       "      <th>actual</th>\n",
       "      <th>non_actual</th>\n",
       "      <th>cum_count</th>\n",
       "      <th>cum_actual</th>\n",
       "      <th>cum_non_actual</th>\n",
       "      <th>percent_cum_actual</th>\n",
       "      <th>percent_cum_non_actual</th>\n",
       "      <th>if_random</th>\n",
       "      <th>lift</th>\n",
       "      <th>K_S</th>\n",
       "      <th>gain</th>\n",
       "    </tr>\n",
       "    <tr>\n",
       "      <th>decile</th>\n",
       "      <th></th>\n",
       "      <th></th>\n",
       "      <th></th>\n",
       "      <th></th>\n",
       "      <th></th>\n",
       "      <th></th>\n",
       "      <th></th>\n",
       "      <th></th>\n",
       "      <th></th>\n",
       "      <th></th>\n",
       "      <th></th>\n",
       "      <th></th>\n",
       "    </tr>\n",
       "  </thead>\n",
       "  <tbody>\n",
       "    <tr>\n",
       "      <th>0</th>\n",
       "      <td>717</td>\n",
       "      <td>389</td>\n",
       "      <td>328</td>\n",
       "      <td>717</td>\n",
       "      <td>389</td>\n",
       "      <td>328</td>\n",
       "      <td>0.11</td>\n",
       "      <td>0.09</td>\n",
       "      <td>353.4</td>\n",
       "      <td>1.10</td>\n",
       "      <td>2.0</td>\n",
       "      <td>54.25</td>\n",
       "    </tr>\n",
       "    <tr>\n",
       "      <th>1</th>\n",
       "      <td>716</td>\n",
       "      <td>389</td>\n",
       "      <td>327</td>\n",
       "      <td>1433</td>\n",
       "      <td>778</td>\n",
       "      <td>655</td>\n",
       "      <td>0.22</td>\n",
       "      <td>0.18</td>\n",
       "      <td>706.8</td>\n",
       "      <td>1.10</td>\n",
       "      <td>4.0</td>\n",
       "      <td>54.29</td>\n",
       "    </tr>\n",
       "    <tr>\n",
       "      <th>2</th>\n",
       "      <td>716</td>\n",
       "      <td>388</td>\n",
       "      <td>328</td>\n",
       "      <td>2149</td>\n",
       "      <td>1166</td>\n",
       "      <td>983</td>\n",
       "      <td>0.33</td>\n",
       "      <td>0.27</td>\n",
       "      <td>1060.2</td>\n",
       "      <td>1.10</td>\n",
       "      <td>6.0</td>\n",
       "      <td>54.26</td>\n",
       "    </tr>\n",
       "    <tr>\n",
       "      <th>3</th>\n",
       "      <td>716</td>\n",
       "      <td>401</td>\n",
       "      <td>315</td>\n",
       "      <td>2865</td>\n",
       "      <td>1567</td>\n",
       "      <td>1298</td>\n",
       "      <td>0.44</td>\n",
       "      <td>0.36</td>\n",
       "      <td>1413.6</td>\n",
       "      <td>1.11</td>\n",
       "      <td>8.0</td>\n",
       "      <td>54.69</td>\n",
       "    </tr>\n",
       "    <tr>\n",
       "      <th>4</th>\n",
       "      <td>716</td>\n",
       "      <td>379</td>\n",
       "      <td>337</td>\n",
       "      <td>3581</td>\n",
       "      <td>1946</td>\n",
       "      <td>1635</td>\n",
       "      <td>0.55</td>\n",
       "      <td>0.45</td>\n",
       "      <td>1767.0</td>\n",
       "      <td>1.10</td>\n",
       "      <td>10.0</td>\n",
       "      <td>54.34</td>\n",
       "    </tr>\n",
       "    <tr>\n",
       "      <th>5</th>\n",
       "      <td>717</td>\n",
       "      <td>396</td>\n",
       "      <td>321</td>\n",
       "      <td>4298</td>\n",
       "      <td>2342</td>\n",
       "      <td>1956</td>\n",
       "      <td>0.66</td>\n",
       "      <td>0.54</td>\n",
       "      <td>2120.4</td>\n",
       "      <td>1.10</td>\n",
       "      <td>12.0</td>\n",
       "      <td>54.49</td>\n",
       "    </tr>\n",
       "    <tr>\n",
       "      <th>6</th>\n",
       "      <td>716</td>\n",
       "      <td>373</td>\n",
       "      <td>343</td>\n",
       "      <td>5014</td>\n",
       "      <td>2715</td>\n",
       "      <td>2299</td>\n",
       "      <td>0.77</td>\n",
       "      <td>0.63</td>\n",
       "      <td>2473.8</td>\n",
       "      <td>1.10</td>\n",
       "      <td>14.0</td>\n",
       "      <td>54.15</td>\n",
       "    </tr>\n",
       "    <tr>\n",
       "      <th>7</th>\n",
       "      <td>716</td>\n",
       "      <td>409</td>\n",
       "      <td>307</td>\n",
       "      <td>5730</td>\n",
       "      <td>3124</td>\n",
       "      <td>2606</td>\n",
       "      <td>0.88</td>\n",
       "      <td>0.72</td>\n",
       "      <td>2827.2</td>\n",
       "      <td>1.10</td>\n",
       "      <td>16.0</td>\n",
       "      <td>54.52</td>\n",
       "    </tr>\n",
       "    <tr>\n",
       "      <th>8</th>\n",
       "      <td>716</td>\n",
       "      <td>246</td>\n",
       "      <td>470</td>\n",
       "      <td>6446</td>\n",
       "      <td>3370</td>\n",
       "      <td>3076</td>\n",
       "      <td>0.95</td>\n",
       "      <td>0.85</td>\n",
       "      <td>3180.6</td>\n",
       "      <td>1.06</td>\n",
       "      <td>10.0</td>\n",
       "      <td>52.28</td>\n",
       "    </tr>\n",
       "    <tr>\n",
       "      <th>9</th>\n",
       "      <td>716</td>\n",
       "      <td>164</td>\n",
       "      <td>552</td>\n",
       "      <td>7162</td>\n",
       "      <td>3534</td>\n",
       "      <td>3628</td>\n",
       "      <td>1.00</td>\n",
       "      <td>1.00</td>\n",
       "      <td>3534.0</td>\n",
       "      <td>1.00</td>\n",
       "      <td>0.0</td>\n",
       "      <td>49.34</td>\n",
       "    </tr>\n",
       "  </tbody>\n",
       "</table>\n",
       "</div>"
      ],
      "text/plain": [
       "        count  actual  non_actual  cum_count  cum_actual  cum_non_actual  \\\n",
       "decile                                                                     \n",
       "0         717     389         328        717         389             328   \n",
       "1         716     389         327       1433         778             655   \n",
       "2         716     388         328       2149        1166             983   \n",
       "3         716     401         315       2865        1567            1298   \n",
       "4         716     379         337       3581        1946            1635   \n",
       "5         717     396         321       4298        2342            1956   \n",
       "6         716     373         343       5014        2715            2299   \n",
       "7         716     409         307       5730        3124            2606   \n",
       "8         716     246         470       6446        3370            3076   \n",
       "9         716     164         552       7162        3534            3628   \n",
       "\n",
       "        percent_cum_actual  percent_cum_non_actual  if_random  lift   K_S  \\\n",
       "decile                                                                      \n",
       "0                     0.11                    0.09      353.4  1.10   2.0   \n",
       "1                     0.22                    0.18      706.8  1.10   4.0   \n",
       "2                     0.33                    0.27     1060.2  1.10   6.0   \n",
       "3                     0.44                    0.36     1413.6  1.11   8.0   \n",
       "4                     0.55                    0.45     1767.0  1.10  10.0   \n",
       "5                     0.66                    0.54     2120.4  1.10  12.0   \n",
       "6                     0.77                    0.63     2473.8  1.10  14.0   \n",
       "7                     0.88                    0.72     2827.2  1.10  16.0   \n",
       "8                     0.95                    0.85     3180.6  1.06  10.0   \n",
       "9                     1.00                    1.00     3534.0  1.00   0.0   \n",
       "\n",
       "         gain  \n",
       "decile         \n",
       "0       54.25  \n",
       "1       54.29  \n",
       "2       54.26  \n",
       "3       54.69  \n",
       "4       54.34  \n",
       "5       54.49  \n",
       "6       54.15  \n",
       "7       54.52  \n",
       "8       52.28  \n",
       "9       49.34  "
      ]
     },
     "execution_count": 81,
     "metadata": {},
     "output_type": "execute_result"
    },
    {
     "data": {
      "image/png": "[encoded data removed]",
      "text/plain": [
       "<Figure size 360x360 with 1 Axes>"
      ]
     },
     "metadata": {
      "needs_background": "light"
     },
     "output_type": "display_data"
    }
   ],
   "source": [
    "ROC_LIFT(lasso,test_hex,'loan_default')"
   ]
  },
  {
   "cell_type": "code",
   "execution_count": 85,
   "metadata": {},
   "outputs": [
    {
     "name": "stdout",
     "output_type": "stream",
     "text": [
      "glm prediction progress: |████████████████████████████████████████████████| 100%\n",
      "glm prediction progress: |████████████████████████████████████████████████| 100%\n"
     ]
    },
    {
     "data": {
      "text/html": [
       "<div>\n",
       "<style scoped>\n",
       "    .dataframe tbody tr th:only-of-type {\n",
       "        vertical-align: middle;\n",
       "    }\n",
       "\n",
       "    .dataframe tbody tr th {\n",
       "        vertical-align: top;\n",
       "    }\n",
       "\n",
       "    .dataframe thead th {\n",
       "        text-align: right;\n",
       "    }\n",
       "</style>\n",
       "<table border=\"1\" class=\"dataframe\">\n",
       "  <thead>\n",
       "    <tr style=\"text-align: right;\">\n",
       "      <th></th>\n",
       "      <th>count</th>\n",
       "      <th>actual</th>\n",
       "      <th>non_actual</th>\n",
       "      <th>cum_count</th>\n",
       "      <th>cum_actual</th>\n",
       "      <th>cum_non_actual</th>\n",
       "      <th>percent_cum_actual</th>\n",
       "      <th>percent_cum_non_actual</th>\n",
       "      <th>if_random</th>\n",
       "      <th>lift</th>\n",
       "      <th>K_S</th>\n",
       "      <th>gain</th>\n",
       "    </tr>\n",
       "    <tr>\n",
       "      <th>decile</th>\n",
       "      <th></th>\n",
       "      <th></th>\n",
       "      <th></th>\n",
       "      <th></th>\n",
       "      <th></th>\n",
       "      <th></th>\n",
       "      <th></th>\n",
       "      <th></th>\n",
       "      <th></th>\n",
       "      <th></th>\n",
       "      <th></th>\n",
       "      <th></th>\n",
       "    </tr>\n",
       "  </thead>\n",
       "  <tbody>\n",
       "    <tr>\n",
       "      <th>0</th>\n",
       "      <td>717</td>\n",
       "      <td>397</td>\n",
       "      <td>320</td>\n",
       "      <td>717</td>\n",
       "      <td>397</td>\n",
       "      <td>320</td>\n",
       "      <td>0.11</td>\n",
       "      <td>0.09</td>\n",
       "      <td>353.4</td>\n",
       "      <td>1.12</td>\n",
       "      <td>2.0</td>\n",
       "      <td>55.37</td>\n",
       "    </tr>\n",
       "    <tr>\n",
       "      <th>1</th>\n",
       "      <td>716</td>\n",
       "      <td>408</td>\n",
       "      <td>308</td>\n",
       "      <td>1433</td>\n",
       "      <td>805</td>\n",
       "      <td>628</td>\n",
       "      <td>0.23</td>\n",
       "      <td>0.17</td>\n",
       "      <td>706.8</td>\n",
       "      <td>1.14</td>\n",
       "      <td>6.0</td>\n",
       "      <td>56.18</td>\n",
       "    </tr>\n",
       "    <tr>\n",
       "      <th>2</th>\n",
       "      <td>716</td>\n",
       "      <td>395</td>\n",
       "      <td>321</td>\n",
       "      <td>2149</td>\n",
       "      <td>1200</td>\n",
       "      <td>949</td>\n",
       "      <td>0.34</td>\n",
       "      <td>0.26</td>\n",
       "      <td>1060.2</td>\n",
       "      <td>1.13</td>\n",
       "      <td>8.0</td>\n",
       "      <td>55.84</td>\n",
       "    </tr>\n",
       "    <tr>\n",
       "      <th>3</th>\n",
       "      <td>716</td>\n",
       "      <td>400</td>\n",
       "      <td>316</td>\n",
       "      <td>2865</td>\n",
       "      <td>1600</td>\n",
       "      <td>1265</td>\n",
       "      <td>0.45</td>\n",
       "      <td>0.35</td>\n",
       "      <td>1413.6</td>\n",
       "      <td>1.13</td>\n",
       "      <td>10.0</td>\n",
       "      <td>55.85</td>\n",
       "    </tr>\n",
       "    <tr>\n",
       "      <th>4</th>\n",
       "      <td>716</td>\n",
       "      <td>374</td>\n",
       "      <td>342</td>\n",
       "      <td>3581</td>\n",
       "      <td>1974</td>\n",
       "      <td>1607</td>\n",
       "      <td>0.56</td>\n",
       "      <td>0.44</td>\n",
       "      <td>1767.0</td>\n",
       "      <td>1.12</td>\n",
       "      <td>12.0</td>\n",
       "      <td>55.12</td>\n",
       "    </tr>\n",
       "    <tr>\n",
       "      <th>5</th>\n",
       "      <td>717</td>\n",
       "      <td>409</td>\n",
       "      <td>308</td>\n",
       "      <td>4298</td>\n",
       "      <td>2383</td>\n",
       "      <td>1915</td>\n",
       "      <td>0.67</td>\n",
       "      <td>0.53</td>\n",
       "      <td>2120.4</td>\n",
       "      <td>1.12</td>\n",
       "      <td>14.0</td>\n",
       "      <td>55.44</td>\n",
       "    </tr>\n",
       "    <tr>\n",
       "      <th>6</th>\n",
       "      <td>716</td>\n",
       "      <td>396</td>\n",
       "      <td>320</td>\n",
       "      <td>5014</td>\n",
       "      <td>2779</td>\n",
       "      <td>2235</td>\n",
       "      <td>0.79</td>\n",
       "      <td>0.62</td>\n",
       "      <td>2473.8</td>\n",
       "      <td>1.12</td>\n",
       "      <td>17.0</td>\n",
       "      <td>55.42</td>\n",
       "    </tr>\n",
       "    <tr>\n",
       "      <th>7</th>\n",
       "      <td>716</td>\n",
       "      <td>388</td>\n",
       "      <td>328</td>\n",
       "      <td>5730</td>\n",
       "      <td>3167</td>\n",
       "      <td>2563</td>\n",
       "      <td>0.90</td>\n",
       "      <td>0.71</td>\n",
       "      <td>2827.2</td>\n",
       "      <td>1.12</td>\n",
       "      <td>19.0</td>\n",
       "      <td>55.27</td>\n",
       "    </tr>\n",
       "    <tr>\n",
       "      <th>8</th>\n",
       "      <td>716</td>\n",
       "      <td>183</td>\n",
       "      <td>533</td>\n",
       "      <td>6446</td>\n",
       "      <td>3350</td>\n",
       "      <td>3096</td>\n",
       "      <td>0.95</td>\n",
       "      <td>0.85</td>\n",
       "      <td>3180.6</td>\n",
       "      <td>1.05</td>\n",
       "      <td>10.0</td>\n",
       "      <td>51.97</td>\n",
       "    </tr>\n",
       "    <tr>\n",
       "      <th>9</th>\n",
       "      <td>716</td>\n",
       "      <td>184</td>\n",
       "      <td>532</td>\n",
       "      <td>7162</td>\n",
       "      <td>3534</td>\n",
       "      <td>3628</td>\n",
       "      <td>1.00</td>\n",
       "      <td>1.00</td>\n",
       "      <td>3534.0</td>\n",
       "      <td>1.00</td>\n",
       "      <td>0.0</td>\n",
       "      <td>49.34</td>\n",
       "    </tr>\n",
       "  </tbody>\n",
       "</table>\n",
       "</div>"
      ],
      "text/plain": [
       "        count  actual  non_actual  cum_count  cum_actual  cum_non_actual  \\\n",
       "decile                                                                     \n",
       "0         717     397         320        717         397             320   \n",
       "1         716     408         308       1433         805             628   \n",
       "2         716     395         321       2149        1200             949   \n",
       "3         716     400         316       2865        1600            1265   \n",
       "4         716     374         342       3581        1974            1607   \n",
       "5         717     409         308       4298        2383            1915   \n",
       "6         716     396         320       5014        2779            2235   \n",
       "7         716     388         328       5730        3167            2563   \n",
       "8         716     183         533       6446        3350            3096   \n",
       "9         716     184         532       7162        3534            3628   \n",
       "\n",
       "        percent_cum_actual  percent_cum_non_actual  if_random  lift   K_S  \\\n",
       "decile                                                                      \n",
       "0                     0.11                    0.09      353.4  1.12   2.0   \n",
       "1                     0.23                    0.17      706.8  1.14   6.0   \n",
       "2                     0.34                    0.26     1060.2  1.13   8.0   \n",
       "3                     0.45                    0.35     1413.6  1.13  10.0   \n",
       "4                     0.56                    0.44     1767.0  1.12  12.0   \n",
       "5                     0.67                    0.53     2120.4  1.12  14.0   \n",
       "6                     0.79                    0.62     2473.8  1.12  17.0   \n",
       "7                     0.90                    0.71     2827.2  1.12  19.0   \n",
       "8                     0.95                    0.85     3180.6  1.05  10.0   \n",
       "9                     1.00                    1.00     3534.0  1.00   0.0   \n",
       "\n",
       "         gain  \n",
       "decile         \n",
       "0       55.37  \n",
       "1       56.18  \n",
       "2       55.84  \n",
       "3       55.85  \n",
       "4       55.12  \n",
       "5       55.44  \n",
       "6       55.42  \n",
       "7       55.27  \n",
       "8       51.97  \n",
       "9       49.34  "
      ]
     },
     "execution_count": 85,
     "metadata": {},
     "output_type": "execute_result"
    },
    {
     "data": {
      "image/png": "[encoded data removed]",
      "text/plain": [
       "<Figure size 360x360 with 1 Axes>"
      ]
     },
     "metadata": {
      "needs_background": "light"
     },
     "output_type": "display_data"
    }
   ],
   "source": [
    "ROC_LIFT(ridge,test_hex,'loan_default')"
   ]
  },
  {
   "cell_type": "markdown",
   "metadata": {},
   "source": [
    "## (2) auto ML"
   ]
  },
  {
   "cell_type": "code",
   "execution_count": 86,
   "metadata": {},
   "outputs": [],
   "source": [
    "from h2o.automl import H2OAutoML"
   ]
  },
  {
   "cell_type": "code",
   "execution_count": 87,
   "metadata": {},
   "outputs": [
    {
     "name": "stdout",
     "output_type": "stream",
     "text": [
      "AutoML progress: |████████████████████████████████████████████████████████| 100%\n"
     ]
    }
   ],
   "source": [
    "# Run AutoML for 20 base models (limited to 1 hour max runtime by default)\n",
    "aml_v1 = H2OAutoML(max_runtime_secs = 60, max_models=20, seed=1)\n",
    "aml_v1.train(predictors,target,training_frame=train_hex)"
   ]
  },
  {
   "cell_type": "code",
   "execution_count": 88,
   "metadata": {},
   "outputs": [
    {
     "data": {
      "text/html": [
       "<table>\n",
       "<thead>\n",
       "<tr><th>model_id                                           </th><th style=\"text-align: right;\">  mean_residual_deviance</th><th style=\"text-align: right;\">    rmse</th><th style=\"text-align: right;\">     mse</th><th style=\"text-align: right;\">     mae</th><th style=\"text-align: right;\">   rmsle</th></tr>\n",
       "</thead>\n",
       "<tbody>\n",
       "<tr><td>StackedEnsemble_AllModels_AutoML_20201123_203149   </td><td style=\"text-align: right;\">                0.222297</td><td style=\"text-align: right;\">0.471484</td><td style=\"text-align: right;\">0.222297</td><td style=\"text-align: right;\">0.444665</td><td style=\"text-align: right;\">0.330989</td></tr>\n",
       "<tr><td>StackedEnsemble_BestOfFamily_AutoML_20201123_203149</td><td style=\"text-align: right;\">                0.222996</td><td style=\"text-align: right;\">0.472224</td><td style=\"text-align: right;\">0.222996</td><td style=\"text-align: right;\">0.446058</td><td style=\"text-align: right;\">0.331521</td></tr>\n",
       "<tr><td>DeepLearning_1_AutoML_20201123_203149              </td><td style=\"text-align: right;\">                0.228535</td><td style=\"text-align: right;\">0.478054</td><td style=\"text-align: right;\">0.228535</td><td style=\"text-align: right;\">0.44929 </td><td style=\"text-align: right;\">0.335768</td></tr>\n",
       "<tr><td>GBM_grid__1_AutoML_20201123_203149_model_1         </td><td style=\"text-align: right;\">                0.228939</td><td style=\"text-align: right;\">0.478476</td><td style=\"text-align: right;\">0.228939</td><td style=\"text-align: right;\">0.458632</td><td style=\"text-align: right;\">0.335822</td></tr>\n",
       "<tr><td>XGBoost_grid__1_AutoML_20201123_203149_model_1     </td><td style=\"text-align: right;\">                0.232567</td><td style=\"text-align: right;\">0.482252</td><td style=\"text-align: right;\">0.232567</td><td style=\"text-align: right;\">0.443996</td><td style=\"text-align: right;\">0.337598</td></tr>\n",
       "<tr><td>GLM_1_AutoML_20201123_203149                       </td><td style=\"text-align: right;\">                0.234285</td><td style=\"text-align: right;\">0.48403 </td><td style=\"text-align: right;\">0.234285</td><td style=\"text-align: right;\">0.477553</td><td style=\"text-align: right;\">0.340516</td></tr>\n",
       "<tr><td>XGBoost_3_AutoML_20201123_203149                   </td><td style=\"text-align: right;\">                0.236389</td><td style=\"text-align: right;\">0.486199</td><td style=\"text-align: right;\">0.236389</td><td style=\"text-align: right;\">0.478761</td><td style=\"text-align: right;\">0.341794</td></tr>\n",
       "<tr><td>GBM_3_AutoML_20201123_203149                       </td><td style=\"text-align: right;\">                0.238104</td><td style=\"text-align: right;\">0.487959</td><td style=\"text-align: right;\">0.238104</td><td style=\"text-align: right;\">0.485195</td><td style=\"text-align: right;\">0.343421</td></tr>\n",
       "<tr><td>GBM_2_AutoML_20201123_203149                       </td><td style=\"text-align: right;\">                0.24019 </td><td style=\"text-align: right;\">0.490092</td><td style=\"text-align: right;\">0.24019 </td><td style=\"text-align: right;\">0.48816 </td><td style=\"text-align: right;\">0.344873</td></tr>\n",
       "<tr><td>GBM_4_AutoML_20201123_203149                       </td><td style=\"text-align: right;\">                0.240237</td><td style=\"text-align: right;\">0.49014 </td><td style=\"text-align: right;\">0.240237</td><td style=\"text-align: right;\">0.487454</td><td style=\"text-align: right;\">0.344844</td></tr>\n",
       "</tbody>\n",
       "</table>"
      ]
     },
     "metadata": {},
     "output_type": "display_data"
    },
    {
     "data": {
      "text/plain": []
     },
     "execution_count": 88,
     "metadata": {},
     "output_type": "execute_result"
    }
   ],
   "source": [
    "aml_v1.leaderboard.head()"
   ]
  },
  {
   "cell_type": "code",
   "execution_count": 89,
   "metadata": {},
   "outputs": [
    {
     "name": "stdout",
     "output_type": "stream",
     "text": [
      "stackedensemble prediction progress: |████████████████████████████████████| 100%\n"
     ]
    },
    {
     "data": {
      "text/html": [
       "<table>\n",
       "<thead>\n",
       "<tr><th style=\"text-align: right;\">  predict</th></tr>\n",
       "</thead>\n",
       "<tbody>\n",
       "<tr><td style=\"text-align: right;\"> 0.638321</td></tr>\n",
       "<tr><td style=\"text-align: right;\"> 0.332114</td></tr>\n",
       "<tr><td style=\"text-align: right;\"> 0.24191 </td></tr>\n",
       "<tr><td style=\"text-align: right;\"> 0.569041</td></tr>\n",
       "<tr><td style=\"text-align: right;\"> 0.115487</td></tr>\n",
       "<tr><td style=\"text-align: right;\"> 0.594672</td></tr>\n",
       "<tr><td style=\"text-align: right;\"> 0.633705</td></tr>\n",
       "<tr><td style=\"text-align: right;\"> 0.636563</td></tr>\n",
       "<tr><td style=\"text-align: right;\"> 0.487503</td></tr>\n",
       "<tr><td style=\"text-align: right;\"> 0.34062 </td></tr>\n",
       "</tbody>\n",
       "</table>"
      ]
     },
     "metadata": {},
     "output_type": "display_data"
    },
    {
     "data": {
      "text/plain": []
     },
     "execution_count": 89,
     "metadata": {},
     "output_type": "execute_result"
    }
   ],
   "source": [
    "pred = aml_v1.predict(test_hex)\n",
    "pred.head()"
   ]
  },
  {
   "cell_type": "code",
   "execution_count": 92,
   "metadata": {},
   "outputs": [
    {
     "name": "stdout",
     "output_type": "stream",
     "text": [
      "\n",
      "ModelMetricsRegressionGLM: stackedensemble\n",
      "** Reported on test data. **\n",
      "\n",
      "MSE: 0.2232380273205286\n",
      "RMSE: 0.47248071634779826\n",
      "MAE: 0.4475589060095846\n",
      "RMSLE: 0.3342140069306052\n",
      "R^2: 0.10689404335378505\n",
      "Mean Residual Deviance: 0.2232380273205286\n",
      "Null degrees of freedom: 7161\n",
      "Residual degrees of freedom: 7148\n",
      "Null deviance: 1790.8210526528203\n",
      "Residual deviance: 1598.830751669626\n",
      "AIC: 9615.337018085407\n"
     ]
    },
    {
     "data": {
      "text/plain": []
     },
     "execution_count": 92,
     "metadata": {},
     "output_type": "execute_result"
    }
   ],
   "source": [
    "perf = aml_v1.leader.model_performance(test_hex)\n",
    "perf"
   ]
  },
  {
   "cell_type": "code",
   "execution_count": 93,
   "metadata": {},
   "outputs": [
    {
     "name": "stdout",
     "output_type": "stream",
     "text": [
      "stackedensemble prediction progress: |████████████████████████████████████| 100%\n",
      "stackedensemble prediction progress: |████████████████████████████████████| 100%\n"
     ]
    },
    {
     "data": {
      "text/html": [
       "<div>\n",
       "<style scoped>\n",
       "    .dataframe tbody tr th:only-of-type {\n",
       "        vertical-align: middle;\n",
       "    }\n",
       "\n",
       "    .dataframe tbody tr th {\n",
       "        vertical-align: top;\n",
       "    }\n",
       "\n",
       "    .dataframe thead th {\n",
       "        text-align: right;\n",
       "    }\n",
       "</style>\n",
       "<table border=\"1\" class=\"dataframe\">\n",
       "  <thead>\n",
       "    <tr style=\"text-align: right;\">\n",
       "      <th></th>\n",
       "      <th>count</th>\n",
       "      <th>actual</th>\n",
       "      <th>non_actual</th>\n",
       "      <th>cum_count</th>\n",
       "      <th>cum_actual</th>\n",
       "      <th>cum_non_actual</th>\n",
       "      <th>percent_cum_actual</th>\n",
       "      <th>percent_cum_non_actual</th>\n",
       "      <th>if_random</th>\n",
       "      <th>lift</th>\n",
       "      <th>K_S</th>\n",
       "      <th>gain</th>\n",
       "    </tr>\n",
       "    <tr>\n",
       "      <th>decile</th>\n",
       "      <th></th>\n",
       "      <th></th>\n",
       "      <th></th>\n",
       "      <th></th>\n",
       "      <th></th>\n",
       "      <th></th>\n",
       "      <th></th>\n",
       "      <th></th>\n",
       "      <th></th>\n",
       "      <th></th>\n",
       "      <th></th>\n",
       "      <th></th>\n",
       "    </tr>\n",
       "  </thead>\n",
       "  <tbody>\n",
       "    <tr>\n",
       "      <th>0</th>\n",
       "      <td>717</td>\n",
       "      <td>542</td>\n",
       "      <td>175</td>\n",
       "      <td>717</td>\n",
       "      <td>542</td>\n",
       "      <td>175</td>\n",
       "      <td>0.15</td>\n",
       "      <td>0.05</td>\n",
       "      <td>353.4</td>\n",
       "      <td>1.53</td>\n",
       "      <td>10.0</td>\n",
       "      <td>75.59</td>\n",
       "    </tr>\n",
       "    <tr>\n",
       "      <th>1</th>\n",
       "      <td>716</td>\n",
       "      <td>480</td>\n",
       "      <td>236</td>\n",
       "      <td>1433</td>\n",
       "      <td>1022</td>\n",
       "      <td>411</td>\n",
       "      <td>0.29</td>\n",
       "      <td>0.11</td>\n",
       "      <td>706.8</td>\n",
       "      <td>1.45</td>\n",
       "      <td>18.0</td>\n",
       "      <td>71.32</td>\n",
       "    </tr>\n",
       "    <tr>\n",
       "      <th>2</th>\n",
       "      <td>716</td>\n",
       "      <td>439</td>\n",
       "      <td>277</td>\n",
       "      <td>2149</td>\n",
       "      <td>1461</td>\n",
       "      <td>688</td>\n",
       "      <td>0.41</td>\n",
       "      <td>0.19</td>\n",
       "      <td>1060.2</td>\n",
       "      <td>1.38</td>\n",
       "      <td>22.0</td>\n",
       "      <td>67.99</td>\n",
       "    </tr>\n",
       "    <tr>\n",
       "      <th>3</th>\n",
       "      <td>716</td>\n",
       "      <td>412</td>\n",
       "      <td>304</td>\n",
       "      <td>2865</td>\n",
       "      <td>1873</td>\n",
       "      <td>992</td>\n",
       "      <td>0.53</td>\n",
       "      <td>0.27</td>\n",
       "      <td>1413.6</td>\n",
       "      <td>1.32</td>\n",
       "      <td>26.0</td>\n",
       "      <td>65.38</td>\n",
       "    </tr>\n",
       "    <tr>\n",
       "      <th>4</th>\n",
       "      <td>716</td>\n",
       "      <td>368</td>\n",
       "      <td>348</td>\n",
       "      <td>3581</td>\n",
       "      <td>2241</td>\n",
       "      <td>1340</td>\n",
       "      <td>0.63</td>\n",
       "      <td>0.37</td>\n",
       "      <td>1767.0</td>\n",
       "      <td>1.27</td>\n",
       "      <td>26.0</td>\n",
       "      <td>62.58</td>\n",
       "    </tr>\n",
       "    <tr>\n",
       "      <th>5</th>\n",
       "      <td>717</td>\n",
       "      <td>345</td>\n",
       "      <td>372</td>\n",
       "      <td>4298</td>\n",
       "      <td>2586</td>\n",
       "      <td>1712</td>\n",
       "      <td>0.73</td>\n",
       "      <td>0.47</td>\n",
       "      <td>2120.4</td>\n",
       "      <td>1.22</td>\n",
       "      <td>26.0</td>\n",
       "      <td>60.17</td>\n",
       "    </tr>\n",
       "    <tr>\n",
       "      <th>6</th>\n",
       "      <td>716</td>\n",
       "      <td>328</td>\n",
       "      <td>388</td>\n",
       "      <td>5014</td>\n",
       "      <td>2914</td>\n",
       "      <td>2100</td>\n",
       "      <td>0.82</td>\n",
       "      <td>0.58</td>\n",
       "      <td>2473.8</td>\n",
       "      <td>1.18</td>\n",
       "      <td>24.0</td>\n",
       "      <td>58.12</td>\n",
       "    </tr>\n",
       "    <tr>\n",
       "      <th>7</th>\n",
       "      <td>716</td>\n",
       "      <td>261</td>\n",
       "      <td>455</td>\n",
       "      <td>5730</td>\n",
       "      <td>3175</td>\n",
       "      <td>2555</td>\n",
       "      <td>0.90</td>\n",
       "      <td>0.70</td>\n",
       "      <td>2827.2</td>\n",
       "      <td>1.12</td>\n",
       "      <td>20.0</td>\n",
       "      <td>55.41</td>\n",
       "    </tr>\n",
       "    <tr>\n",
       "      <th>8</th>\n",
       "      <td>716</td>\n",
       "      <td>241</td>\n",
       "      <td>475</td>\n",
       "      <td>6446</td>\n",
       "      <td>3416</td>\n",
       "      <td>3030</td>\n",
       "      <td>0.97</td>\n",
       "      <td>0.84</td>\n",
       "      <td>3180.6</td>\n",
       "      <td>1.07</td>\n",
       "      <td>13.0</td>\n",
       "      <td>52.99</td>\n",
       "    </tr>\n",
       "    <tr>\n",
       "      <th>9</th>\n",
       "      <td>716</td>\n",
       "      <td>118</td>\n",
       "      <td>598</td>\n",
       "      <td>7162</td>\n",
       "      <td>3534</td>\n",
       "      <td>3628</td>\n",
       "      <td>1.00</td>\n",
       "      <td>1.00</td>\n",
       "      <td>3534.0</td>\n",
       "      <td>1.00</td>\n",
       "      <td>0.0</td>\n",
       "      <td>49.34</td>\n",
       "    </tr>\n",
       "  </tbody>\n",
       "</table>\n",
       "</div>"
      ],
      "text/plain": [
       "        count  actual  non_actual  cum_count  cum_actual  cum_non_actual  \\\n",
       "decile                                                                     \n",
       "0         717     542         175        717         542             175   \n",
       "1         716     480         236       1433        1022             411   \n",
       "2         716     439         277       2149        1461             688   \n",
       "3         716     412         304       2865        1873             992   \n",
       "4         716     368         348       3581        2241            1340   \n",
       "5         717     345         372       4298        2586            1712   \n",
       "6         716     328         388       5014        2914            2100   \n",
       "7         716     261         455       5730        3175            2555   \n",
       "8         716     241         475       6446        3416            3030   \n",
       "9         716     118         598       7162        3534            3628   \n",
       "\n",
       "        percent_cum_actual  percent_cum_non_actual  if_random  lift   K_S  \\\n",
       "decile                                                                      \n",
       "0                     0.15                    0.05      353.4  1.53  10.0   \n",
       "1                     0.29                    0.11      706.8  1.45  18.0   \n",
       "2                     0.41                    0.19     1060.2  1.38  22.0   \n",
       "3                     0.53                    0.27     1413.6  1.32  26.0   \n",
       "4                     0.63                    0.37     1767.0  1.27  26.0   \n",
       "5                     0.73                    0.47     2120.4  1.22  26.0   \n",
       "6                     0.82                    0.58     2473.8  1.18  24.0   \n",
       "7                     0.90                    0.70     2827.2  1.12  20.0   \n",
       "8                     0.97                    0.84     3180.6  1.07  13.0   \n",
       "9                     1.00                    1.00     3534.0  1.00   0.0   \n",
       "\n",
       "         gain  \n",
       "decile         \n",
       "0       75.59  \n",
       "1       71.32  \n",
       "2       67.99  \n",
       "3       65.38  \n",
       "4       62.58  \n",
       "5       60.17  \n",
       "6       58.12  \n",
       "7       55.41  \n",
       "8       52.99  \n",
       "9       49.34  "
      ]
     },
     "execution_count": 93,
     "metadata": {},
     "output_type": "execute_result"
    },
    {
     "data": {
      "image/png": "[encoded data removed]",
      "text/plain": [
       "<Figure size 360x360 with 1 Axes>"
      ]
     },
     "metadata": {
      "needs_background": "light"
     },
     "output_type": "display_data"
    }
   ],
   "source": [
    "ROC_LIFT(aml_v1,test_hex,'loan_default')"
   ]
  }
 ],
 "metadata": {
  "kernelspec": {
   "display_name": "Python 3",
   "language": "python",
   "name": "python3"
  },
  "language_info": {
   "codemirror_mode": {
    "name": "ipython",
    "version": 3
   },
   "file_extension": ".py",
   "mimetype": "text/x-python",
   "name": "python",
   "nbconvert_exporter": "python",
   "pygments_lexer": "ipython3",
   "version": "3.7.2"
  }
 },
 "nbformat": 4,
 "nbformat_minor": 2
}
